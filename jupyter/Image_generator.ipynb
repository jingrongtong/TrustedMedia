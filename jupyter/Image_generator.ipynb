{
 "cells": [
  {
   "cell_type": "markdown",
   "metadata": {},
   "source": [
    "# Import Libraries"
   ]
  },
  {
   "cell_type": "code",
   "execution_count": 1,
   "metadata": {},
   "outputs": [],
   "source": [
    "from PIL import Image, ImageDraw\n",
    "import exifread\n",
    "import PIL.ExifTags\n",
    "import json\n",
    "import piexif\n",
    "import piexif.helper"
   ]
  },
  {
   "cell_type": "markdown",
   "metadata": {},
   "source": [
    "# Create simple image"
   ]
  },
  {
   "cell_type": "code",
   "execution_count": 2,
   "metadata": {},
   "outputs": [],
   "source": [
    "mode = 'RGB'\n",
    "size = (720, 720)\n",
    "color = 'red'\n",
    "filename = \"/home/hadrien/AnacondaProjects/TrustedMedia/data/simple_red.jpg\""
   ]
  },
  {
   "cell_type": "code",
   "execution_count": 3,
   "metadata": {},
   "outputs": [],
   "source": [
    "img = Image.new(mode, size, color)\n",
    "img.save(filename)"
   ]
  },
  {
   "cell_type": "markdown",
   "metadata": {},
   "source": [
    "# Get EXIF data"
   ]
  },
  {
   "cell_type": "markdown",
   "metadata": {},
   "source": [
    "### Using PIL"
   ]
  },
  {
   "cell_type": "code",
   "execution_count": 5,
   "metadata": {},
   "outputs": [],
   "source": [
    "image = PIL.Image.open(filename)\n",
    "exif_data = image._getexif()\n",
    "exif_data"
   ]
  },
  {
   "cell_type": "markdown",
   "metadata": {},
   "source": [
    "### Using exifread"
   ]
  },
  {
   "cell_type": "code",
   "execution_count": 6,
   "metadata": {},
   "outputs": [
    {
     "data": {
      "text/plain": [
       "{}"
      ]
     },
     "execution_count": 6,
     "metadata": {},
     "output_type": "execute_result"
    }
   ],
   "source": [
    "# Open image file for reading (binary mode)\n",
    "f = open(filename, 'rb')\n",
    "\n",
    "# Return Exif tags\n",
    "tags = exifread.process_file(f)\n",
    "tags"
   ]
  },
  {
   "cell_type": "markdown",
   "metadata": {},
   "source": [
    "# Create fake EXIF"
   ]
  },
  {
   "cell_type": "code",
   "execution_count": 7,
   "metadata": {},
   "outputs": [],
   "source": [
    "# TODO : - create EXIF in JSON format\n",
    "#        - convert and store EXIF into image."
   ]
  },
  {
   "cell_type": "code",
   "execution_count": 8,
   "metadata": {},
   "outputs": [],
   "source": [
    "fake_exif = {\n",
    "    'Copyright': 'Hadrien Marcellin',\n",
    "    'Physical': {\n",
    "        'skin_type': 'smooth',\n",
    "        'complexion': 'fair'\n",
    "    },\n",
    "    'SubjectLocation': {\n",
    "        'city': 'london'\n",
    "    }\n",
    "}"
   ]
  },
  {
   "cell_type": "code",
   "execution_count": 9,
   "metadata": {},
   "outputs": [],
   "source": [
    "exif_dict = piexif.load(filename)\n",
    "# insert custom data in usercomment field\n",
    "exif_dict[\"Exif\"][piexif.ExifIFD.UserComment] = piexif.helper.UserComment.dump(\n",
    "    json.dumps(fake_exif),\n",
    "    encoding=\"unicode\"\n",
    ")"
   ]
  },
  {
   "cell_type": "code",
   "execution_count": 10,
   "metadata": {},
   "outputs": [],
   "source": [
    "# insert mutated data (serialised into JSON) into image\n",
    "piexif.insert(\n",
    "    piexif.dump(exif_dict),\n",
    "    filename\n",
    ")"
   ]
  },
  {
   "cell_type": "code",
   "execution_count": 11,
   "metadata": {},
   "outputs": [
    {
     "data": {
      "text/plain": [
       "{'Image ExifOffset': (0x8769) Long=26 @ 18,\n",
       " 'EXIF UserComment': (0x9286) Undefined={\"Copyright\": \"Hadrien Marcellin\", \"Physical\": {\"skin_type\": \"smooth\", \"complexion\": \"fair\"}, \"SubjectLocation\": {\"city\": \"london\"}} @ 40}"
      ]
     },
     "execution_count": 11,
     "metadata": {},
     "output_type": "execute_result"
    }
   ],
   "source": [
    "# Open image file for reading (binary mode)\n",
    "f = open(filename, 'rb')\n",
    "\n",
    "# Return Exif tags\n",
    "tags = exifread.process_file(f)\n",
    "tags"
   ]
  },
  {
   "cell_type": "markdown",
   "metadata": {},
   "source": [
    "### Piexif"
   ]
  },
  {
   "cell_type": "code",
   "execution_count": 14,
   "metadata": {},
   "outputs": [],
   "source": [
    "img = Image.open(filename)\n",
    "exif_dict = piexif.load(img.info['exif'])"
   ]
  },
  {
   "cell_type": "code",
   "execution_count": 15,
   "metadata": {},
   "outputs": [
    {
     "data": {
      "text/plain": [
       "{'0th': {34665: 26},\n",
       " 'Exif': {37510: b'UNICODE\\x00\\x00{\\x00\"\\x00C\\x00o\\x00p\\x00y\\x00r\\x00i\\x00g\\x00h\\x00t\\x00\"\\x00:\\x00 \\x00\"\\x00H\\x00a\\x00d\\x00r\\x00i\\x00e\\x00n\\x00 \\x00M\\x00a\\x00r\\x00c\\x00e\\x00l\\x00l\\x00i\\x00n\\x00\"\\x00,\\x00 \\x00\"\\x00P\\x00h\\x00y\\x00s\\x00i\\x00c\\x00a\\x00l\\x00\"\\x00:\\x00 \\x00{\\x00\"\\x00s\\x00k\\x00i\\x00n\\x00_\\x00t\\x00y\\x00p\\x00e\\x00\"\\x00:\\x00 \\x00\"\\x00s\\x00m\\x00o\\x00o\\x00t\\x00h\\x00\"\\x00,\\x00 \\x00\"\\x00c\\x00o\\x00m\\x00p\\x00l\\x00e\\x00x\\x00i\\x00o\\x00n\\x00\"\\x00:\\x00 \\x00\"\\x00f\\x00a\\x00i\\x00r\\x00\"\\x00}\\x00,\\x00 \\x00\"\\x00S\\x00u\\x00b\\x00j\\x00e\\x00c\\x00t\\x00L\\x00o\\x00c\\x00a\\x00t\\x00i\\x00o\\x00n\\x00\"\\x00:\\x00 \\x00{\\x00\"\\x00c\\x00i\\x00t\\x00y\\x00\"\\x00:\\x00 \\x00\"\\x00l\\x00o\\x00n\\x00d\\x00o\\x00n\\x00\"\\x00}\\x00}'},\n",
       " 'GPS': {},\n",
       " 'Interop': {},\n",
       " '1st': {},\n",
       " 'thumbnail': None}"
      ]
     },
     "execution_count": 15,
     "metadata": {},
     "output_type": "execute_result"
    }
   ],
   "source": [
    "exif_dict"
   ]
  },
  {
   "cell_type": "code",
   "execution_count": 16,
   "metadata": {},
   "outputs": [
    {
     "ename": "KeyError",
     "evalue": "6",
     "output_type": "error",
     "traceback": [
      "\u001b[0;31m---------------------------------------------------------------------------\u001b[0m",
      "\u001b[0;31mKeyError\u001b[0m                                  Traceback (most recent call last)",
      "\u001b[0;32m<ipython-input-16-231727f39975>\u001b[0m in \u001b[0;36m<module>\u001b[0;34m\u001b[0m\n\u001b[0;32m----> 1\u001b[0;31m \u001b[0maltitude\u001b[0m \u001b[0;34m=\u001b[0m \u001b[0mexif_dict\u001b[0m\u001b[0;34m[\u001b[0m\u001b[0;34m'GPS'\u001b[0m\u001b[0;34m]\u001b[0m\u001b[0;34m[\u001b[0m\u001b[0mpiexif\u001b[0m\u001b[0;34m.\u001b[0m\u001b[0mGPSIFD\u001b[0m\u001b[0;34m.\u001b[0m\u001b[0mGPSAltitude\u001b[0m\u001b[0;34m]\u001b[0m\u001b[0;34m\u001b[0m\u001b[0;34m\u001b[0m\u001b[0m\n\u001b[0m\u001b[1;32m      2\u001b[0m \u001b[0mprint\u001b[0m\u001b[0;34m(\u001b[0m\u001b[0maltitude\u001b[0m\u001b[0;34m)\u001b[0m\u001b[0;34m\u001b[0m\u001b[0;34m\u001b[0m\u001b[0m\n",
      "\u001b[0;31mKeyError\u001b[0m: 6"
     ]
    }
   ],
   "source": [
    "altitude = exif_dict['GPS'][piexif.GPSIFD.GPSAltitude]\n",
    "print(altitude)"
   ]
  },
  {
   "cell_type": "code",
   "execution_count": 18,
   "metadata": {},
   "outputs": [],
   "source": [
    "exif_dict['GPS'][piexif.GPSIFD.GPSAltitude] = (140, 1)\n",
    "exif_bytes = piexif.dump(exif_dict)"
   ]
  },
  {
   "cell_type": "code",
   "execution_count": 21,
   "metadata": {},
   "outputs": [],
   "source": [
    "fname = \"/home/hadrien/AnacondaProjects/TrustedMedia/data/simple_red_exif.jpg\"\n",
    "img.save('%s' % fname, \"jpeg\", exif=exif_bytes)"
   ]
  },
  {
   "cell_type": "code",
   "execution_count": 24,
   "metadata": {},
   "outputs": [],
   "source": [
    "img = Image.open(fname)\n",
    "exif_dict = piexif.load(img.info['exif'])"
   ]
  },
  {
   "cell_type": "code",
   "execution_count": 25,
   "metadata": {},
   "outputs": [
    {
     "data": {
      "text/plain": [
       "{'0th': {34665: 38, 34853: 324},\n",
       " 'Exif': {37510: b'UNICODE\\x00\\x00{\\x00\"\\x00C\\x00o\\x00p\\x00y\\x00r\\x00i\\x00g\\x00h\\x00t\\x00\"\\x00:\\x00 \\x00\"\\x00H\\x00a\\x00d\\x00r\\x00i\\x00e\\x00n\\x00 \\x00M\\x00a\\x00r\\x00c\\x00e\\x00l\\x00l\\x00i\\x00n\\x00\"\\x00,\\x00 \\x00\"\\x00P\\x00h\\x00y\\x00s\\x00i\\x00c\\x00a\\x00l\\x00\"\\x00:\\x00 \\x00{\\x00\"\\x00s\\x00k\\x00i\\x00n\\x00_\\x00t\\x00y\\x00p\\x00e\\x00\"\\x00:\\x00 \\x00\"\\x00s\\x00m\\x00o\\x00o\\x00t\\x00h\\x00\"\\x00,\\x00 \\x00\"\\x00c\\x00o\\x00m\\x00p\\x00l\\x00e\\x00x\\x00i\\x00o\\x00n\\x00\"\\x00:\\x00 \\x00\"\\x00f\\x00a\\x00i\\x00r\\x00\"\\x00}\\x00,\\x00 \\x00\"\\x00S\\x00u\\x00b\\x00j\\x00e\\x00c\\x00t\\x00L\\x00o\\x00c\\x00a\\x00t\\x00i\\x00o\\x00n\\x00\"\\x00:\\x00 \\x00{\\x00\"\\x00c\\x00i\\x00t\\x00y\\x00\"\\x00:\\x00 \\x00\"\\x00l\\x00o\\x00n\\x00d\\x00o\\x00n\\x00\"\\x00}\\x00}'},\n",
       " 'GPS': {6: (140, 1)},\n",
       " 'Interop': {},\n",
       " '1st': {},\n",
       " 'thumbnail': None}"
      ]
     },
     "execution_count": 25,
     "metadata": {},
     "output_type": "execute_result"
    }
   ],
   "source": [
    "exif_dict"
   ]
  },
  {
   "cell_type": "code",
   "execution_count": null,
   "metadata": {},
   "outputs": [],
   "source": []
  }
 ],
 "metadata": {
  "kernelspec": {
   "display_name": "Python 3",
   "language": "python",
   "name": "python3"
  },
  "language_info": {
   "codemirror_mode": {
    "name": "ipython",
    "version": 3
   },
   "file_extension": ".py",
   "mimetype": "text/x-python",
   "name": "python",
   "nbconvert_exporter": "python",
   "pygments_lexer": "ipython3",
   "version": "3.8.5"
  }
 },
 "nbformat": 4,
 "nbformat_minor": 4
}
